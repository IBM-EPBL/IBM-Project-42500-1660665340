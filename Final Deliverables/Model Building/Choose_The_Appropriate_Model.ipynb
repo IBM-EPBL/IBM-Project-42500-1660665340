{
  "cells": [
    {
      "cell_type": "markdown",
      "id": "f059b44f",
      "metadata": {
        "papermill": {
          "duration": 0.00728,
          "end_time": "2022-10-27T10:10:11.400108",
          "exception": false,
          "start_time": "2022-10-27T10:10:11.392828",
          "status": "completed"
        },
        "tags": [],
        "id": "f059b44f"
      },
      "source": [
        "# Import Libraries"
      ]
    },
    {
      "cell_type": "code",
      "execution_count": null,
      "id": "4c36231d",
      "metadata": {
        "execution": {
          "iopub.execute_input": "2022-10-27T10:10:11.414558Z",
          "iopub.status.busy": "2022-10-27T10:10:11.413715Z",
          "iopub.status.idle": "2022-10-27T10:10:14.936319Z",
          "shell.execute_reply": "2022-10-27T10:10:14.934992Z"
        },
        "papermill": {
          "duration": 3.533176,
          "end_time": "2022-10-27T10:10:14.939315",
          "exception": false,
          "start_time": "2022-10-27T10:10:11.406139",
          "status": "completed"
        },
        "tags": [],
        "id": "4c36231d"
      },
      "outputs": [],
      "source": [
        "import pandas as pd\n",
        "import numpy as np\n",
        "from sklearn.preprocessing import LabelEncoder\n",
        "from sklearn.model_selection import train_test_split, GridSearchCV\n",
        "from sklearn.metrics import mean_absolute_error, mean_squared_error, r2_score\n",
        "import pickle\n",
        "import wandb\n",
        "\n",
        "#regression models\n",
        "from sklearn.ensemble import BaggingRegressor, RandomForestRegressor, HistGradientBoostingRegressor, ExtraTreesRegressor\n",
        "from xgboost.sklearn import XGBRegressor\n",
        "from lightgbm import LGBMRegressor"
      ]
    },
    {
      "cell_type": "markdown",
      "id": "ef4e9732",
      "metadata": {
        "papermill": {
          "duration": 0.005695,
          "end_time": "2022-10-27T10:10:14.953079",
          "exception": false,
          "start_time": "2022-10-27T10:10:14.947384",
          "status": "completed"
        },
        "tags": [],
        "id": "ef4e9732"
      },
      "source": [
        "# Config"
      ]
    },
    {
      "cell_type": "code",
      "execution_count": null,
      "id": "353141bb",
      "metadata": {
        "execution": {
          "iopub.execute_input": "2022-10-27T10:10:14.967987Z",
          "iopub.status.busy": "2022-10-27T10:10:14.966553Z",
          "iopub.status.idle": "2022-10-27T10:10:16.073103Z",
          "shell.execute_reply": "2022-10-27T10:10:16.071756Z"
        },
        "papermill": {
          "duration": 1.116583,
          "end_time": "2022-10-27T10:10:16.075723",
          "exception": false,
          "start_time": "2022-10-27T10:10:14.959140",
          "status": "completed"
        },
        "tags": [],
        "id": "353141bb"
      },
      "outputs": [],
      "source": [
        "wandb.login(key='b75e0564aba32dce859c60044418df71ce7389a8')"
      ]
    },
    {
      "cell_type": "markdown",
      "id": "c9f731ca",
      "metadata": {
        "papermill": {
          "duration": 0.006098,
          "end_time": "2022-10-27T10:10:16.088360",
          "exception": false,
          "start_time": "2022-10-27T10:10:16.082262",
          "status": "completed"
        },
        "tags": [],
        "id": "c9f731ca"
      },
      "source": [
        "# Import Preprocessed Data"
      ]
    },
    {
      "cell_type": "code",
      "execution_count": null,
      "id": "26972526",
      "metadata": {
        "execution": {
          "iopub.execute_input": "2022-10-27T10:10:16.102966Z",
          "iopub.status.busy": "2022-10-27T10:10:16.102556Z",
          "iopub.status.idle": "2022-10-27T10:10:16.894155Z",
          "shell.execute_reply": "2022-10-27T10:10:16.892821Z"
        },
        "papermill": {
          "duration": 0.80254,
          "end_time": "2022-10-27T10:10:16.897243",
          "exception": false,
          "start_time": "2022-10-27T10:10:16.094703",
          "status": "completed"
        },
        "tags": [],
        "id": "26972526"
      },
      "outputs": [],
      "source": [
        "data = pd.read_csv('../input/naalaiya-thiran/Preprocessed/autos_preprocessed.csv', header=0, sep=',', encoding='Latin1')"
      ]
    },
    {
      "cell_type": "markdown",
      "id": "6af06d61",
      "metadata": {
        "papermill": {
          "duration": 0.006829,
          "end_time": "2022-10-27T10:10:16.910849",
          "exception": false,
          "start_time": "2022-10-27T10:10:16.904020",
          "status": "completed"
        },
        "tags": [],
        "id": "6af06d61"
      },
      "source": [
        "# Label Encoding"
      ]
    },
    {
      "cell_type": "code",
      "execution_count": null,
      "id": "74212d80",
      "metadata": {
        "execution": {
          "iopub.execute_input": "2022-10-27T10:10:16.925669Z",
          "iopub.status.busy": "2022-10-27T10:10:16.925251Z",
          "iopub.status.idle": "2022-10-27T10:10:17.440039Z",
          "shell.execute_reply": "2022-10-27T10:10:17.438449Z"
        },
        "papermill": {
          "duration": 0.525497,
          "end_time": "2022-10-27T10:10:17.442854",
          "exception": false,
          "start_time": "2022-10-27T10:10:16.917357",
          "status": "completed"
        },
        "tags": [],
        "id": "74212d80"
      },
      "outputs": [],
      "source": [
        "labels = ['gearbox', 'notRepairedDamage', 'model', 'brand', 'fuelType', 'vehicleType']\n",
        "\n",
        "mapper = {}\n",
        "for i in labels:\n",
        "    mapper[i] = LabelEncoder()\n",
        "    mapper[i].fit(data[i])\n",
        "    tr = mapper[i].transform(data[i])\n",
        "    np.save(str('classes'+i+'.npy'), mapper[i].classes_)\n",
        "    data.loc[:, i+'_labels'] = pd.Series(tr, index=data.index)\n",
        "    \n",
        "labeled = data[['price', 'yearOfRegistration','powerPS','kilometer','monthOfRegistration']\n",
        "                  +[x+\"_labels\" for x in labels]]\n",
        "\n",
        "print(labeled.columns)"
      ]
    },
    {
      "cell_type": "markdown",
      "id": "c1cc7a08",
      "metadata": {
        "papermill": {
          "duration": 0.006161,
          "end_time": "2022-10-27T10:10:17.455697",
          "exception": false,
          "start_time": "2022-10-27T10:10:17.449536",
          "status": "completed"
        },
        "tags": [],
        "id": "c1cc7a08"
      },
      "source": [
        "# Score Evaluation"
      ]
    },
    {
      "cell_type": "code",
      "execution_count": null,
      "id": "43aa64e2",
      "metadata": {
        "execution": {
          "iopub.execute_input": "2022-10-27T10:10:17.471023Z",
          "iopub.status.busy": "2022-10-27T10:10:17.470068Z",
          "iopub.status.idle": "2022-10-27T10:10:17.479235Z",
          "shell.execute_reply": "2022-10-27T10:10:17.477959Z"
        },
        "papermill": {
          "duration": 0.019684,
          "end_time": "2022-10-27T10:10:17.481918",
          "exception": false,
          "start_time": "2022-10-27T10:10:17.462234",
          "status": "completed"
        },
        "tags": [],
        "id": "43aa64e2"
      },
      "outputs": [],
      "source": [
        "def find_scores(Y_actual, Y_pred, X_train):\n",
        "    mae = mean_absolute_error(Y_actual, Y_pred)\n",
        "    mse = mean_squared_error(Y_actual, Y_pred)\n",
        "    rmse = np.sqrt(mse)\n",
        "    rmsle = np.log(rmse)\n",
        "    r2 = r2_score(Y_actual, Y_pred)\n",
        "    n, k = X_train.shape\n",
        "    adj_r2_score = 1 - ((1-r2)*(n-1)/(n-k-1))\n",
        "    \n",
        "    wandb.log({\"mae\": mae, \"mse\": mse, 'rmse':rmse, 'rmsle':rmsle, 'r2':r2, 'adj_r2':adj_r2_score})"
      ]
    },
    {
      "cell_type": "markdown",
      "id": "4be9d528",
      "metadata": {
        "papermill": {
          "duration": 0.007439,
          "end_time": "2022-10-27T10:10:17.496005",
          "exception": false,
          "start_time": "2022-10-27T10:10:17.488566",
          "status": "completed"
        },
        "tags": [],
        "id": "4be9d528"
      },
      "source": [
        "# Predictive Modeling"
      ]
    },
    {
      "cell_type": "markdown",
      "id": "801a6369",
      "metadata": {
        "papermill": {
          "duration": 0.008186,
          "end_time": "2022-10-27T10:10:17.510690",
          "exception": false,
          "start_time": "2022-10-27T10:10:17.502504",
          "status": "completed"
        },
        "tags": [],
        "id": "801a6369"
      },
      "source": [
        "## Bagging Regressor"
      ]
    },
    {
      "cell_type": "code",
      "execution_count": null,
      "id": "490c44ff",
      "metadata": {
        "execution": {
          "iopub.execute_input": "2022-10-27T10:10:17.527305Z",
          "iopub.status.busy": "2022-10-27T10:10:17.526061Z",
          "iopub.status.idle": "2022-10-27T10:10:17.535455Z",
          "shell.execute_reply": "2022-10-27T10:10:17.534390Z"
        },
        "papermill": {
          "duration": 0.020581,
          "end_time": "2022-10-27T10:10:17.538085",
          "exception": false,
          "start_time": "2022-10-27T10:10:17.517504",
          "status": "completed"
        },
        "tags": [],
        "id": "490c44ff"
      },
      "outputs": [],
      "source": [
        "def bagging_regressor():\n",
        "    config_defaults = {\n",
        "                'n_estimators':100,\n",
        "                'max_samples':0.4,\n",
        "                'bootstrap':True,\n",
        "                'random_state':42\n",
        "            }\n",
        "    wandb.init(config=config_defaults)\n",
        "    config = wandb.config\n",
        "    \n",
        "    X = labeled.iloc[:,1:].values\n",
        "    Y = labeled.iloc[:,0].values.reshape(-1,1)\n",
        "    \n",
        "    X_train, X_test, Y_train, Y_test = train_test_split(X, Y, test_size=0.4, random_state=42)\n",
        "    \n",
        "    model = BaggingRegressor(\n",
        "      n_estimators=config.n_estimators, \n",
        "      bootstrap=config.bootstrap,\n",
        "      max_samples=config.max_samples,\n",
        "      random_state = config.random_state)\n",
        "    \n",
        "    model.fit(X_train, Y_train)\n",
        "    \n",
        "    Y_pred = model.predict(X_test)\n",
        "    \n",
        "    find_scores(Y_test, Y_pred, X_train)"
      ]
    },
    {
      "cell_type": "code",
      "execution_count": null,
      "id": "0f9901f3",
      "metadata": {
        "execution": {
          "iopub.execute_input": "2022-10-27T10:10:17.556027Z",
          "iopub.status.busy": "2022-10-27T10:10:17.555578Z",
          "iopub.status.idle": "2022-10-27T10:10:17.562257Z",
          "shell.execute_reply": "2022-10-27T10:10:17.560957Z"
        },
        "papermill": {
          "duration": 0.018253,
          "end_time": "2022-10-27T10:10:17.564706",
          "exception": false,
          "start_time": "2022-10-27T10:10:17.546453",
          "status": "completed"
        },
        "tags": [],
        "id": "0f9901f3"
      },
      "outputs": [],
      "source": [
        "bagging_regressor_configs = {\n",
        "    \"name\":'BaggingRegressor',\n",
        "    \"method\": \"grid\",\n",
        "    \"metric\": {\n",
        "        \"name\": \"adj_r2\",\n",
        "        \"goal\": \"maximize\"\n",
        "    },\n",
        "    \"parameters\": {\n",
        "        \"n_estimators\": {\n",
        "            \"values\": [100, 200, 300]\n",
        "        },\n",
        "        \"max_samples\": {\n",
        "            \"values\": [0.4,0.5, 0.6]\n",
        "        }\n",
        "    }\n",
        "}\n",
        "\n",
        "sweep_id = wandb.sweep(sweep=bagging_regressor_configs, project=\"car_resale_value\")\n",
        "wandb.agent(sweep_id=sweep_id, function=bagging_regressor)"
      ]
    },
    {
      "cell_type": "markdown",
      "id": "0afe72e9",
      "metadata": {
        "id": "0afe72e9"
      },
      "source": [
        "## Bagging Regressor Results\n",
        "\n",
        "<img src=\"./Bagging Regressor.png\" alt=\"Bagging Regressor Results\"/>"
      ]
    },
    {
      "cell_type": "markdown",
      "id": "4992e2e9",
      "metadata": {
        "papermill": {
          "duration": 0.00647,
          "end_time": "2022-10-27T10:10:17.577859",
          "exception": false,
          "start_time": "2022-10-27T10:10:17.571389",
          "status": "completed"
        },
        "tags": [],
        "id": "4992e2e9"
      },
      "source": [
        "## RandomForest Regressor"
      ]
    },
    {
      "cell_type": "code",
      "execution_count": null,
      "id": "851b6147",
      "metadata": {
        "execution": {
          "iopub.execute_input": "2022-10-27T10:10:17.593645Z",
          "iopub.status.busy": "2022-10-27T10:10:17.592793Z",
          "iopub.status.idle": "2022-10-27T10:10:17.602039Z",
          "shell.execute_reply": "2022-10-27T10:10:17.600982Z"
        },
        "papermill": {
          "duration": 0.020061,
          "end_time": "2022-10-27T10:10:17.604613",
          "exception": false,
          "start_time": "2022-10-27T10:10:17.584552",
          "status": "completed"
        },
        "tags": [],
        "id": "851b6147"
      },
      "outputs": [],
      "source": [
        "def random_forest_regressor():\n",
        "    config_defaults = {\n",
        "                'n_estimators':100,\n",
        "                'max_samples':0.4,\n",
        "                'criterion':'squared_error',\n",
        "                'bootstrap': True,\n",
        "                'random_state':42\n",
        "            }\n",
        "    wandb.init(config=config_defaults)\n",
        "    config = wandb.config\n",
        "    \n",
        "    X = labeled.iloc[:,1:].values\n",
        "    Y = labeled.iloc[:,0].values.reshape(-1,1)\n",
        "    \n",
        "    X_train, X_test, Y_train, Y_test = train_test_split(X, Y, test_size=0.4, random_state=42)\n",
        "    \n",
        "    model = RandomForestRegressor(\n",
        "      n_estimators=config.n_estimators,\n",
        "      criterion = config.criterion,\n",
        "      bootstrap=config.bootstrap,\n",
        "      max_samples=config.max_samples,\n",
        "      random_state = config.random_state)\n",
        "    \n",
        "    model.fit(X_train, Y_train)\n",
        "    \n",
        "    Y_pred = model.predict(X_test)\n",
        "    \n",
        "    find_scores(Y_test, Y_pred, X_train)"
      ]
    },
    {
      "cell_type": "code",
      "execution_count": null,
      "id": "2d696ac2",
      "metadata": {
        "execution": {
          "iopub.execute_input": "2022-10-27T10:10:17.620641Z",
          "iopub.status.busy": "2022-10-27T10:10:17.619788Z",
          "iopub.status.idle": "2022-10-27T10:10:17.626400Z",
          "shell.execute_reply": "2022-10-27T10:10:17.625414Z"
        },
        "papermill": {
          "duration": 0.017666,
          "end_time": "2022-10-27T10:10:17.628993",
          "exception": false,
          "start_time": "2022-10-27T10:10:17.611327",
          "status": "completed"
        },
        "tags": [],
        "id": "2d696ac2"
      },
      "outputs": [],
      "source": [
        "random_forest_configs = {\n",
        "    \"name\":'RandomForestRegressor',\n",
        "    \"method\": \"grid\",\n",
        "    \"metric\": {\n",
        "        \"name\": \"adj_r2\",\n",
        "        \"goal\": \"maximize\"\n",
        "    },\n",
        "    \"parameters\": {\n",
        "        \"n_estimators\": {\n",
        "            \"values\": [100, 200, 300]\n",
        "        },\n",
        "        \"max_samples\": {\n",
        "            \"values\": [0.4,0.5, 0.6]\n",
        "        }\n",
        "    }\n",
        "}\n",
        "\n",
        "sweep_id = wandb.sweep(sweep=random_forest_configs, project=\"car_resale_value\")\n",
        "wandb.agent(sweep_id=sweep_id, function=random_forest_regressor)"
      ]
    },
    {
      "cell_type": "markdown",
      "id": "e55dd7a6",
      "metadata": {
        "id": "e55dd7a6"
      },
      "source": [
        "## Random Forest Regressor Results\n",
        "\n",
        "<img src=\"./Random Forest Regressor.png\" alt=\"Random Forest Regressor Results\"/>"
      ]
    },
    {
      "cell_type": "markdown",
      "id": "f10015c3",
      "metadata": {
        "papermill": {
          "duration": 0.006636,
          "end_time": "2022-10-27T10:10:17.642587",
          "exception": false,
          "start_time": "2022-10-27T10:10:17.635951",
          "status": "completed"
        },
        "tags": [],
        "id": "f10015c3"
      },
      "source": [
        "## HistGradient Boosting Regressor"
      ]
    },
    {
      "cell_type": "code",
      "execution_count": null,
      "id": "09113f8b",
      "metadata": {
        "execution": {
          "iopub.execute_input": "2022-10-27T10:10:17.658720Z",
          "iopub.status.busy": "2022-10-27T10:10:17.657857Z",
          "iopub.status.idle": "2022-10-27T10:10:17.666434Z",
          "shell.execute_reply": "2022-10-27T10:10:17.665552Z"
        },
        "papermill": {
          "duration": 0.019618,
          "end_time": "2022-10-27T10:10:17.669084",
          "exception": false,
          "start_time": "2022-10-27T10:10:17.649466",
          "status": "completed"
        },
        "tags": [],
        "id": "09113f8b"
      },
      "outputs": [],
      "source": [
        "def hist_gradient_boost_regressor():\n",
        "    config_defaults = {\n",
        "                'loss':'squared_error',\n",
        "                'learning_rate': 0.1,\n",
        "                'max_iter':100,\n",
        "                'random_state':42\n",
        "            }\n",
        "    wandb.init(config=config_defaults)\n",
        "    config = wandb.config\n",
        "    \n",
        "    X = labeled.iloc[:,1:].values\n",
        "    Y = labeled.iloc[:,0].values.reshape(-1,1)\n",
        "    \n",
        "    X_train, X_test, Y_train, Y_test = train_test_split(X, Y, test_size=0.4, random_state=42)\n",
        "    \n",
        "    model = HistGradientBoostingRegressor(\n",
        "      loss=config.loss,\n",
        "      learning_rate = config.learning_rate,\n",
        "      max_iter=config.max_iter,\n",
        "      random_state = config.random_state)\n",
        "    \n",
        "    model.fit(X_train, Y_train)\n",
        "    \n",
        "    Y_pred = model.predict(X_test)\n",
        "    \n",
        "    find_scores(Y_test, Y_pred, X_train)"
      ]
    },
    {
      "cell_type": "code",
      "execution_count": null,
      "id": "08461271",
      "metadata": {
        "execution": {
          "iopub.execute_input": "2022-10-27T10:10:17.685032Z",
          "iopub.status.busy": "2022-10-27T10:10:17.684577Z",
          "iopub.status.idle": "2022-10-27T10:10:17.691545Z",
          "shell.execute_reply": "2022-10-27T10:10:17.690303Z"
        },
        "papermill": {
          "duration": 0.017854,
          "end_time": "2022-10-27T10:10:17.694049",
          "exception": false,
          "start_time": "2022-10-27T10:10:17.676195",
          "status": "completed"
        },
        "tags": [],
        "id": "08461271"
      },
      "outputs": [],
      "source": [
        "hist_gradient_boost_configs = {\n",
        "    \"name\":'HistGradientBoostingRegressor',\n",
        "    \"method\": \"grid\",\n",
        "    \"metric\": {\n",
        "        \"name\": \"adj_r2\",\n",
        "        \"goal\": \"maximize\"\n",
        "    },\n",
        "    \"parameters\": {\n",
        "        \"loss\": {\n",
        "            \"values\": ['squared_error', 'absolute_error']\n",
        "        },\n",
        "        \"learning_rate\": {\n",
        "            \"values\": [0.01, 0.03, 0.05, 0.07]\n",
        "        },\n",
        "        \"max_iter\": {\n",
        "            \"values\": [100,200,300]\n",
        "        },\n",
        "        \"random_state\": {\n",
        "            \"values\": [42]\n",
        "        }\n",
        "    }\n",
        "}\n",
        "\n",
        "sweep_id = wandb.sweep(sweep=hist_gradient_boost_configs, project=\"car_resale_value\")\n",
        "wandb.agent(sweep_id=sweep_id, function=hist_gradient_boost_regressor)"
      ]
    },
    {
      "cell_type": "markdown",
      "id": "4053995d",
      "metadata": {
        "id": "4053995d"
      },
      "source": [
        "## Bagging Regressor Results\n",
        "\n",
        "<img src=\"./HOG Boosting Regressor.png\" alt=\"HistGradient Boosting Regressor Results\"/>"
      ]
    },
    {
      "cell_type": "markdown",
      "id": "b58cf6e0",
      "metadata": {
        "papermill": {
          "duration": 0.006834,
          "end_time": "2022-10-27T10:10:17.707827",
          "exception": false,
          "start_time": "2022-10-27T10:10:17.700993",
          "status": "completed"
        },
        "tags": [],
        "id": "b58cf6e0"
      },
      "source": [
        "## Extra Trees Regressor"
      ]
    },
    {
      "cell_type": "code",
      "execution_count": null,
      "id": "55acac6d",
      "metadata": {
        "execution": {
          "iopub.execute_input": "2022-10-27T10:10:17.723373Z",
          "iopub.status.busy": "2022-10-27T10:10:17.722945Z",
          "iopub.status.idle": "2022-10-27T10:10:17.732313Z",
          "shell.execute_reply": "2022-10-27T10:10:17.731132Z"
        },
        "papermill": {
          "duration": 0.020335,
          "end_time": "2022-10-27T10:10:17.735052",
          "exception": false,
          "start_time": "2022-10-27T10:10:17.714717",
          "status": "completed"
        },
        "tags": [],
        "id": "55acac6d"
      },
      "outputs": [],
      "source": [
        "def extra_tree_regressor():\n",
        "    config_defaults = {\n",
        "                'criterion':'squared_error',\n",
        "                'max_samples':0.4,\n",
        "                'bootstrap': True,\n",
        "                'random_state':42\n",
        "            }\n",
        "    wandb.init(config=config_defaults)\n",
        "    config = wandb.config\n",
        "    \n",
        "    X = labeled.iloc[:,1:].values\n",
        "    Y = labeled.iloc[:,0].values.reshape(-1,1)\n",
        "    \n",
        "    X_train, X_test, Y_train, Y_test = train_test_split(X, Y, test_size=0.4, random_state=42)\n",
        "    \n",
        "    model = ExtraTreesRegressor(\n",
        "      criterion=config.criterion,\n",
        "      bootstrap = config.bootstrap,\n",
        "      max_samples=config.max_samples,\n",
        "      random_state = config.random_state)\n",
        "    \n",
        "    model.fit(X_train, Y_train)\n",
        "    \n",
        "    Y_pred = model.predict(X_test)\n",
        "    \n",
        "    find_scores(Y_test, Y_pred, X_train)"
      ]
    },
    {
      "cell_type": "code",
      "execution_count": null,
      "id": "091ff35a",
      "metadata": {
        "execution": {
          "iopub.execute_input": "2022-10-27T10:10:17.751058Z",
          "iopub.status.busy": "2022-10-27T10:10:17.750637Z",
          "iopub.status.idle": "2022-10-27T10:10:17.757031Z",
          "shell.execute_reply": "2022-10-27T10:10:17.755807Z"
        },
        "papermill": {
          "duration": 0.017353,
          "end_time": "2022-10-27T10:10:17.759467",
          "exception": false,
          "start_time": "2022-10-27T10:10:17.742114",
          "status": "completed"
        },
        "tags": [],
        "id": "091ff35a"
      },
      "outputs": [],
      "source": [
        "extra_tree_configs = {\n",
        "    \"name\":'ExtraTreesRegressor',\n",
        "    \"method\": \"grid\",\n",
        "    \"metric\": {\n",
        "        \"name\": \"adj_r2\",\n",
        "        \"goal\": \"maximize\"\n",
        "    },\n",
        "    \"parameters\": {\n",
        "        \"criterion\": {\n",
        "            \"values\": ['squared_error', 'absolute_error']\n",
        "        },\n",
        "        \"max_samples\": {\n",
        "            \"values\": [0.4,0.5, 0.6]\n",
        "        }\n",
        "    }\n",
        "}\n",
        "\n",
        "sweep_id = wandb.sweep(sweep=extra_tree_configs, project=\"car_resale_value\")\n",
        "wandb.agent(sweep_id=sweep_id, function=extra_tree_regressor)"
      ]
    },
    {
      "cell_type": "markdown",
      "id": "80752865",
      "metadata": {
        "id": "80752865"
      },
      "source": [
        "## Extra Tree Regressor Results\n",
        "\n",
        "<img src=\"./Extra Tree Regressor.png\" alt=\"Extra Tree Regressor Results\"/>"
      ]
    },
    {
      "cell_type": "markdown",
      "id": "94944da2",
      "metadata": {
        "papermill": {
          "duration": 0.006672,
          "end_time": "2022-10-27T10:10:17.773225",
          "exception": false,
          "start_time": "2022-10-27T10:10:17.766553",
          "status": "completed"
        },
        "tags": [],
        "id": "94944da2"
      },
      "source": [
        "## XGB Regressor"
      ]
    },
    {
      "cell_type": "code",
      "execution_count": null,
      "id": "b7e00e25",
      "metadata": {
        "execution": {
          "iopub.execute_input": "2022-10-27T10:10:17.789823Z",
          "iopub.status.busy": "2022-10-27T10:10:17.788748Z",
          "iopub.status.idle": "2022-10-27T10:10:17.800140Z",
          "shell.execute_reply": "2022-10-27T10:10:17.798776Z"
        },
        "papermill": {
          "duration": 0.022558,
          "end_time": "2022-10-27T10:10:17.802735",
          "exception": false,
          "start_time": "2022-10-27T10:10:17.780177",
          "status": "completed"
        },
        "tags": [],
        "id": "b7e00e25"
      },
      "outputs": [],
      "source": [
        "def XGB_regressor():\n",
        "    config_defaults = {\n",
        "                'learning_rate':0.1,\n",
        "                'n_estimators': 500,\n",
        "                'booster':'gbtree',\n",
        "                'eta':0.01,\n",
        "                'random_state':42\n",
        "            }\n",
        "    wandb.init(config=config_defaults)\n",
        "    config = wandb.config\n",
        "    \n",
        "    X = labeled.iloc[:,1:].values\n",
        "    Y = labeled.iloc[:,0].values.reshape(-1,1)\n",
        "    \n",
        "    X_train, X_test, Y_train, Y_test = train_test_split(X, Y, test_size=0.4, random_state=42)\n",
        "    \n",
        "    model = XGBRegressor(\n",
        "      learning_rate=config.learning_rate,\n",
        "      n_estimators = config.n_estimators,\n",
        "      random_state = config.random_state)\n",
        "    \n",
        "    model.fit(X_train, Y_train)\n",
        "    \n",
        "    Y_pred = model.predict(X_test)\n",
        "    \n",
        "    find_scores(Y_test, Y_pred, X_train)"
      ]
    },
    {
      "cell_type": "code",
      "execution_count": null,
      "id": "7ef533af",
      "metadata": {
        "execution": {
          "iopub.execute_input": "2022-10-27T10:10:17.818796Z",
          "iopub.status.busy": "2022-10-27T10:10:17.818361Z",
          "iopub.status.idle": "2022-10-27T11:58:52.167641Z",
          "shell.execute_reply": "2022-10-27T11:58:52.166045Z"
        },
        "papermill": {
          "duration": 6514.360991,
          "end_time": "2022-10-27T11:58:52.170846",
          "exception": false,
          "start_time": "2022-10-27T10:10:17.809855",
          "status": "completed"
        },
        "tags": [],
        "id": "7ef533af"
      },
      "outputs": [],
      "source": [
        "extra_tree_configs = {\n",
        "    \"name\":'XGBRegressor',\n",
        "    \"method\": \"grid\",\n",
        "    \"metric\": {\n",
        "        \"name\": \"adj_r2\",\n",
        "        \"goal\": \"maximize\"\n",
        "    },\n",
        "    \"parameters\": {\n",
        "        \"learning_rate\": {\n",
        "            \"values\": [0.01, 0.03, 0.05, 0.07]\n",
        "        },\n",
        "        \"n_estimators\": {\n",
        "            \"values\": [100,200,300]\n",
        "        },\n",
        "        \"booster\": {\n",
        "            \"values\": ['gbtree','gblinear']\n",
        "        },\n",
        "        \"eta\": {\n",
        "            \"values\": [0.01, 0.03, 0.05, 0.07]\n",
        "        }\n",
        "    }\n",
        "}\n",
        "\n",
        "sweep_id = wandb.sweep(sweep=extra_tree_configs, project=\"car_resale_value\")\n",
        "wandb.agent(sweep_id=sweep_id, function=XGB_regressor)"
      ]
    },
    {
      "cell_type": "markdown",
      "id": "edd1df42",
      "metadata": {
        "id": "edd1df42"
      },
      "source": [
        "## XGB Regressor Results\n",
        "\n",
        "<img src=\"./XGB Regressor.png\" alt=\"XGB Regressor Results\"/>"
      ]
    },
    {
      "cell_type": "markdown",
      "id": "c1dab6d7",
      "metadata": {
        "papermill": {
          "duration": 0.144514,
          "end_time": "2022-10-27T11:58:52.456857",
          "exception": false,
          "start_time": "2022-10-27T11:58:52.312343",
          "status": "completed"
        },
        "tags": [],
        "id": "c1dab6d7"
      },
      "source": [
        "## LGBM Regressor"
      ]
    },
    {
      "cell_type": "code",
      "execution_count": null,
      "id": "e156cfa3",
      "metadata": {
        "execution": {
          "iopub.execute_input": "2022-10-27T11:58:52.743020Z",
          "iopub.status.busy": "2022-10-27T11:58:52.741831Z",
          "iopub.status.idle": "2022-10-27T11:58:52.750809Z",
          "shell.execute_reply": "2022-10-27T11:58:52.749834Z"
        },
        "papermill": {
          "duration": 0.156426,
          "end_time": "2022-10-27T11:58:52.753354",
          "exception": false,
          "start_time": "2022-10-27T11:58:52.596928",
          "status": "completed"
        },
        "tags": [],
        "id": "e156cfa3"
      },
      "outputs": [],
      "source": [
        "def LGBM_regressor():\n",
        "    config_defaults = {\n",
        "                'objective':'root_mean_squared_error',\n",
        "                'reg_sqrt': True,\n",
        "                'metric':'rmse',\n",
        "                'random_state':42\n",
        "            }\n",
        "    wandb.init(config=config_defaults)\n",
        "    config = wandb.config\n",
        "    \n",
        "    X = labeled.iloc[:,1:].values\n",
        "    Y = labeled.iloc[:,0].values.reshape(-1,1)\n",
        "    \n",
        "    X_train, X_test, Y_train, Y_test = train_test_split(X, Y, test_size=0.4, random_state=42)\n",
        "    \n",
        "    model = LGBMRegressor(\n",
        "      learning_rate=config.learning_rate,\n",
        "      n_estimators = config.n_estimators,\n",
        "      random_state = config.random_state)\n",
        "    \n",
        "    model.fit(X_train, Y_train)\n",
        "    \n",
        "    Y_pred = model.predict(X_test)\n",
        "    \n",
        "    find_scores(Y_test, Y_pred, X_train)"
      ]
    },
    {
      "cell_type": "code",
      "execution_count": null,
      "id": "1d6465cf",
      "metadata": {
        "execution": {
          "iopub.execute_input": "2022-10-27T11:58:53.043189Z",
          "iopub.status.busy": "2022-10-27T11:58:53.042753Z",
          "iopub.status.idle": "2022-10-27T12:39:06.807821Z",
          "shell.execute_reply": "2022-10-27T12:39:06.806570Z"
        },
        "papermill": {
          "duration": 2414.136965,
          "end_time": "2022-10-27T12:39:07.034687",
          "exception": false,
          "start_time": "2022-10-27T11:58:52.897722",
          "status": "completed"
        },
        "tags": [],
        "id": "1d6465cf"
      },
      "outputs": [],
      "source": [
        "lgbm_configs = {\n",
        "    \"name\":'LGBMRegressor',\n",
        "    \"method\": \"grid\",\n",
        "    \"metric\": {\n",
        "        \"name\": \"adj_r2\",\n",
        "        \"goal\": \"maximize\"\n",
        "    },\n",
        "    \"parameters\": {\n",
        "        \"learning_rate\": {\n",
        "            \"values\": [0.01, 0.03, 0.05, 0.07]\n",
        "        },\n",
        "        \"objective\": {\n",
        "            \"values\": ['root_mean_squared_error']\n",
        "        },\n",
        "        \"boosting_type\": {\n",
        "            \"values\": ['gbdt','dart','goss','rf']\n",
        "        },\n",
        "        \"reg_sqrt\": {\n",
        "            \"values\": [True]\n",
        "        },\n",
        "        \"metric\": {\n",
        "            \"values\": ['rmse']\n",
        "        },\n",
        "        \"n_estimators\": {\n",
        "            \"values\": [100,200,300]\n",
        "        },\n",
        "        \"random_state\": {\n",
        "            \"values\": [42]\n",
        "        }\n",
        "    }\n",
        "}\n",
        "\n",
        "sweep_id = wandb.sweep(sweep=lgbm_configs, project=\"car_resale_value\")\n",
        "wandb.agent(sweep_id=sweep_id, function=LGBM_regressor)"
      ]
    },
    {
      "cell_type": "markdown",
      "id": "9ce4243b",
      "metadata": {
        "id": "9ce4243b"
      },
      "source": [
        "## LGBM Regressor Results\n",
        "\n",
        "<img src=\"./LGBM Regressor.png\" alt=\"LGBM Regressor Results\"/>"
      ]
    }
  ],
  "metadata": {
    "kernelspec": {
      "display_name": "Python 3 (ipykernel)",
      "language": "python",
      "name": "python3"
    },
    "language_info": {
      "codemirror_mode": {
        "name": "ipython",
        "version": 3
      },
      "file_extension": ".py",
      "mimetype": "text/x-python",
      "name": "python",
      "nbconvert_exporter": "python",
      "pygments_lexer": "ipython3",
      "version": "3.9.7"
    },
    "papermill": {
      "default_parameters": {},
      "duration": 8948.010497,
      "end_time": "2022-10-27T12:39:09.925802",
      "environment_variables": {},
      "exception": null,
      "input_path": "__notebook__.ipynb",
      "output_path": "__notebook__.ipynb",
      "parameters": {},
      "start_time": "2022-10-27T10:10:01.915305",
      "version": "2.3.4"
    },
    "colab": {
      "provenance": [],
      "collapsed_sections": []
    }
  },
  "nbformat": 4,
  "nbformat_minor": 5
}